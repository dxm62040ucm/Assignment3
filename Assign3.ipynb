{
  "nbformat": 4,
  "nbformat_minor": 0,
  "metadata": {
    "colab": {
      "provenance": []
    },
    "kernelspec": {
      "name": "python3",
      "display_name": "Python 3"
    },
    "language_info": {
      "name": "python"
    }
  },
  "cells": [
    {
      "cell_type": "code",
      "execution_count": 5,
      "metadata": {
        "colab": {
          "base_uri": "https://localhost:8080/"
        },
        "id": "BDsb5xNvC1o7",
        "outputId": "c0ede71a-43fa-47ec-fdaa-ab67b78baeef"
      },
      "outputs": [
        {
          "output_type": "stream",
          "name": "stdout",
          "text": [
            "Total number of employees: 3\n",
            "Average salary of employees: 550000.0\n",
            "Full-time employee salary: 612500.0\n"
          ]
        }
      ],
      "source": [
        "class Employee:\n",
        "    employee_count = 0\n",
        "\n",
        "    def __init__(self, name, family, salary, department):\n",
        "        self.name = name\n",
        "        self.family = family\n",
        "        self.salary = salary\n",
        "        self.department = department\n",
        "        Employee.employee_count += 1\n",
        "\n",
        "    def average_salary(self, *salaries):\n",
        "        total_salary = sum(salaries) + self.salary\n",
        "        num_employees = len(salaries) + 1\n",
        "        return total_salary / num_employees\n",
        "\n",
        "\n",
        "class FullTimeEmployee(Employee):\n",
        "    def __init__(self, name, family, salary, department, hours_worked):\n",
        "        super().__init__(name, family, salary, department)\n",
        "        self.hours_worked = hours_worked\n",
        "\n",
        "    def calculate_fulltime_salary(self):\n",
        "        return self.salary * (self.hours_worked / 40)\n",
        "\n",
        "\n",
        "# Create instances of Employee and FullTimeEmployee\n",
        "emp1 = Employee(\"John\", \"Fam1\", 500000, \"MATH\")\n",
        "emp2 = Employee(\"Jane\", \"Fam2\", 600000, \"NNDL\")\n",
        "\n",
        "fulltime_employee = FullTimeEmployee(\"Smith\", \"Fam3\", 700000, \"IT\", 35)\n",
        "\n",
        "# Call member functions\n",
        "average_salary = emp1.average_salary(emp2.salary)\n",
        "fulltime_salary = fulltime_employee.calculate_fulltime_salary()\n",
        "\n",
        "# Display results\n",
        "print(f\"Total number of employees: {Employee.employee_count}\")\n",
        "print(f\"Average salary of employees: {average_salary}\")\n",
        "print(f\"Full-time employee salary: {fulltime_salary}\")\n"
      ]
    },
    {
      "cell_type": "code",
      "source": [
        "import numpy as np\n",
        "\n",
        "# Create a random vector of size 20 with float values in the range 1-20\n",
        "random_vector = np.random.uniform(1, 20, 20)\n",
        "\n",
        "# Reshape the array to 4 by 5\n",
        "reshaped_array = random_vector.reshape(4, 5)\n",
        "\n",
        "# Replace the max in each row by 0 (along axis=1)\n",
        "reshaped_array[np.arange(len(reshaped_array)), np.argmax(reshaped_array, axis=1)] = 0\n",
        "\n",
        "# Display the results\n",
        "print(\"Random Vector:\")\n",
        "print(random_vector)\n",
        "print(\"\\nReshaped Array:\")\n",
        "print(reshaped_array)"
      ],
      "metadata": {
        "colab": {
          "base_uri": "https://localhost:8080/"
        },
        "id": "Vs4P7MJfDaLk",
        "outputId": "548208d3-2fdc-45e5-8dcf-905b8b9568ad"
      },
      "execution_count": 3,
      "outputs": [
        {
          "output_type": "stream",
          "name": "stdout",
          "text": [
            "Random Vector:\n",
            "[ 8.64405707  4.22613875  0.          8.4910148   9.56667956 10.10267367\n",
            "  3.54430526  0.          1.03684941 10.90237016  0.          9.28094656\n",
            " 12.56597231 15.10748246 12.7099067  18.85331378  0.         18.03013597\n",
            "  5.56007046  5.55230254]\n",
            "\n",
            "Reshaped Array:\n",
            "[[ 8.64405707  4.22613875  0.          8.4910148   9.56667956]\n",
            " [10.10267367  3.54430526  0.          1.03684941 10.90237016]\n",
            " [ 0.          9.28094656 12.56597231 15.10748246 12.7099067 ]\n",
            " [18.85331378  0.         18.03013597  5.56007046  5.55230254]]\n"
          ]
        }
      ]
    }
  ]
}